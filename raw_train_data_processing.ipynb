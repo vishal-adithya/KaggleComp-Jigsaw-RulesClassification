{
 "cells": [
  {
   "cell_type": "markdown",
   "id": "01e6f04f",
   "metadata": {},
   "source": [
    "# Kaggle Comp : Jigsaw Rules Classification (Raw Training Data preprocessing notebook)"
   ]
  },
  {
   "cell_type": "markdown",
   "id": "1e797139",
   "metadata": {},
   "source": [
    "### Dependencies"
   ]
  },
  {
   "cell_type": "code",
   "execution_count": 1,
   "id": "851defc1",
   "metadata": {},
   "outputs": [],
   "source": [
    "import pandas as pd\n",
    "import numpy as np\n",
    "import matplotlib.pyplot as plt\n",
    "import seaborn as sns\n",
    "import random\n",
    "import json\n",
    "import os"
   ]
  },
  {
   "cell_type": "code",
   "execution_count": 2,
   "id": "b9a0c94d",
   "metadata": {},
   "outputs": [],
   "source": [
    "import warnings\n",
    "warnings.filterwarnings('ignore')"
   ]
  },
  {
   "cell_type": "markdown",
   "id": "f7b6f679",
   "metadata": {},
   "source": [
    "### EDA"
   ]
  },
  {
   "cell_type": "code",
   "execution_count": 3,
   "id": "3708261b",
   "metadata": {},
   "outputs": [
    {
     "data": {
      "text/html": [
       "<div>\n",
       "<style scoped>\n",
       "    .dataframe tbody tr th:only-of-type {\n",
       "        vertical-align: middle;\n",
       "    }\n",
       "\n",
       "    .dataframe tbody tr th {\n",
       "        vertical-align: top;\n",
       "    }\n",
       "\n",
       "    .dataframe thead th {\n",
       "        text-align: right;\n",
       "    }\n",
       "</style>\n",
       "<table border=\"1\" class=\"dataframe\">\n",
       "  <thead>\n",
       "    <tr style=\"text-align: right;\">\n",
       "      <th></th>\n",
       "      <th>body</th>\n",
       "      <th>rule</th>\n",
       "      <th>subreddit</th>\n",
       "      <th>positive_example_1</th>\n",
       "      <th>positive_example_2</th>\n",
       "      <th>negative_example_1</th>\n",
       "      <th>negative_example_2</th>\n",
       "      <th>rule_violation</th>\n",
       "    </tr>\n",
       "    <tr>\n",
       "      <th>row_id</th>\n",
       "      <th></th>\n",
       "      <th></th>\n",
       "      <th></th>\n",
       "      <th></th>\n",
       "      <th></th>\n",
       "      <th></th>\n",
       "      <th></th>\n",
       "      <th></th>\n",
       "    </tr>\n",
       "  </thead>\n",
       "  <tbody>\n",
       "    <tr>\n",
       "      <th>0</th>\n",
       "      <td>Banks don't want you to know this! Click here ...</td>\n",
       "      <td>No Advertising: Spam, referral links, unsolici...</td>\n",
       "      <td>Futurology</td>\n",
       "      <td>If you could tell your younger self something ...</td>\n",
       "      <td>hunt for lady for jack off in neighbourhood ht...</td>\n",
       "      <td>Watch Golden Globe Awards 2017 Live Online in ...</td>\n",
       "      <td>DOUBLE CEE x BANDS EPPS - \"BIRDS\"\\n\\nDOWNLOAD/...</td>\n",
       "      <td>0</td>\n",
       "    </tr>\n",
       "    <tr>\n",
       "      <th>1</th>\n",
       "      <td>SD Stream [ ENG Link 1] (http://www.sportsstre...</td>\n",
       "      <td>No Advertising: Spam, referral links, unsolici...</td>\n",
       "      <td>soccerstreams</td>\n",
       "      <td>[I wanna kiss you all over! Stunning!](http://...</td>\n",
       "      <td>LOLGA.COM is One of the First Professional Onl...</td>\n",
       "      <td>#Rapper \\n🚨Straight Outta Cross Keys SC 🚨YouTu...</td>\n",
       "      <td>[15 Amazing Hidden Features Of Google Search Y...</td>\n",
       "      <td>0</td>\n",
       "    </tr>\n",
       "    <tr>\n",
       "      <th>2</th>\n",
       "      <td>Lol. Try appealing the ban and say you won't d...</td>\n",
       "      <td>No legal advice: Do not offer or request legal...</td>\n",
       "      <td>pcmasterrace</td>\n",
       "      <td>Don't break up with him or call the cops.  If ...</td>\n",
       "      <td>It'll be dismissed: https://en.wikipedia.org/w...</td>\n",
       "      <td>Where is there a site that still works where y...</td>\n",
       "      <td>Because this statement of his is true. It isn'...</td>\n",
       "      <td>1</td>\n",
       "    </tr>\n",
       "    <tr>\n",
       "      <th>3</th>\n",
       "      <td>she will come your home open her legs with  an...</td>\n",
       "      <td>No Advertising: Spam, referral links, unsolici...</td>\n",
       "      <td>sex</td>\n",
       "      <td>Selling Tyrande codes for 3€ to paypal. PM. \\n...</td>\n",
       "      <td>tight pussy watch for your cock get her at thi...</td>\n",
       "      <td>NSFW(obviously) http://spankbang.com/iy3u/vide...</td>\n",
       "      <td>Good News ::Download WhatsApp 2.16.230 APK for...</td>\n",
       "      <td>1</td>\n",
       "    </tr>\n",
       "    <tr>\n",
       "      <th>4</th>\n",
       "      <td>code free tyrande ---&gt;&gt;&gt; [Imgur](http://i.imgu...</td>\n",
       "      <td>No Advertising: Spam, referral links, unsolici...</td>\n",
       "      <td>hearthstone</td>\n",
       "      <td>wow!! amazing reminds me of the old days.Well...</td>\n",
       "      <td>seek for lady for sex in around http://p77.pl/...</td>\n",
       "      <td>must be watch movie https://sites.google.com/s...</td>\n",
       "      <td>We're streaming Pokemon Veitnamese Crystal RIG...</td>\n",
       "      <td>1</td>\n",
       "    </tr>\n",
       "  </tbody>\n",
       "</table>\n",
       "</div>"
      ],
      "text/plain": [
       "                                                     body  \\\n",
       "row_id                                                      \n",
       "0       Banks don't want you to know this! Click here ...   \n",
       "1       SD Stream [ ENG Link 1] (http://www.sportsstre...   \n",
       "2       Lol. Try appealing the ban and say you won't d...   \n",
       "3       she will come your home open her legs with  an...   \n",
       "4       code free tyrande --->>> [Imgur](http://i.imgu...   \n",
       "\n",
       "                                                     rule      subreddit  \\\n",
       "row_id                                                                     \n",
       "0       No Advertising: Spam, referral links, unsolici...     Futurology   \n",
       "1       No Advertising: Spam, referral links, unsolici...  soccerstreams   \n",
       "2       No legal advice: Do not offer or request legal...   pcmasterrace   \n",
       "3       No Advertising: Spam, referral links, unsolici...            sex   \n",
       "4       No Advertising: Spam, referral links, unsolici...    hearthstone   \n",
       "\n",
       "                                       positive_example_1  \\\n",
       "row_id                                                      \n",
       "0       If you could tell your younger self something ...   \n",
       "1       [I wanna kiss you all over! Stunning!](http://...   \n",
       "2       Don't break up with him or call the cops.  If ...   \n",
       "3       Selling Tyrande codes for 3€ to paypal. PM. \\n...   \n",
       "4        wow!! amazing reminds me of the old days.Well...   \n",
       "\n",
       "                                       positive_example_2  \\\n",
       "row_id                                                      \n",
       "0       hunt for lady for jack off in neighbourhood ht...   \n",
       "1       LOLGA.COM is One of the First Professional Onl...   \n",
       "2       It'll be dismissed: https://en.wikipedia.org/w...   \n",
       "3       tight pussy watch for your cock get her at thi...   \n",
       "4       seek for lady for sex in around http://p77.pl/...   \n",
       "\n",
       "                                       negative_example_1  \\\n",
       "row_id                                                      \n",
       "0       Watch Golden Globe Awards 2017 Live Online in ...   \n",
       "1       #Rapper \\n🚨Straight Outta Cross Keys SC 🚨YouTu...   \n",
       "2       Where is there a site that still works where y...   \n",
       "3       NSFW(obviously) http://spankbang.com/iy3u/vide...   \n",
       "4       must be watch movie https://sites.google.com/s...   \n",
       "\n",
       "                                       negative_example_2  rule_violation  \n",
       "row_id                                                                     \n",
       "0       DOUBLE CEE x BANDS EPPS - \"BIRDS\"\\n\\nDOWNLOAD/...               0  \n",
       "1       [15 Amazing Hidden Features Of Google Search Y...               0  \n",
       "2       Because this statement of his is true. It isn'...               1  \n",
       "3       Good News ::Download WhatsApp 2.16.230 APK for...               1  \n",
       "4       We're streaming Pokemon Veitnamese Crystal RIG...               1  "
      ]
     },
     "execution_count": 3,
     "metadata": {},
     "output_type": "execute_result"
    }
   ],
   "source": [
    "df = pd.read_csv(os.path.join(\"Data\", \"train.csv\"))\n",
    "df.set_index('row_id', inplace=True)\n",
    "df.head()"
   ]
  },
  {
   "cell_type": "code",
   "execution_count": 4,
   "id": "a4ea3a70",
   "metadata": {},
   "outputs": [
    {
     "data": {
      "text/plain": [
       "[{'text': 'You are a moderation assistant. Decide if the following Reddit comment violates the given rule. Use the subreddit context and provided examples to guide your judgment. Answer strictly with 1 (if it violates) or 0 (if it does not).,Input: Body: FindSexToday . com - free girls for sex worldwide 26Yg93ZelUJu2!,Subreddit: pics,Positive Examples: code free tyrande --->>> [Imgur](http://i.imgur.com/KlvssCl.png)\\n\\nfor you and your friend 2 codes for 4 dollars https://www.paypal.com/cgi-bin/webscr?cmd=_s-xclick&hosted_button_id=UN4E27AG7BWKS\\n\\n2$... buy one directly from here: https://www.paypal.com/cgi-bin/webscr?cmd=_s-xclick&hosted_button_id=VP3S5HQRE7T7E\\n, You can use this trade site cs.money\\nAnd this is my trade url you can give me bonus item: https://steamcommunity.com/tradeoffer/new/?partner=352456179&token=fqoaQtof, Negative Examples: Click so I get views!     IGNORE \\n\\nhttps://youtu.be/CR7Op3lct98, [Nice. I would like to see more.](http://www.drhorton.life/?p=17), Output: 1'},\n",
       " {'text': 'You are a moderation assistant. Decide if the following Reddit comment violates the given rule. Use the subreddit context and provided examples to guide your judgment. Answer strictly with 1 (if it violates) or 0 (if it does not).,Input: Body: **HD** Stream [Sunderland Vs Watford Live Stream](http://watchvslivestream.online/soccer/3.html),Subreddit: soccerstreams,Positive Examples:  for free  sluts  show ass  here  http://gnap.es/6t5bp, seek for lady for sex in around http://p77.pl/12yb9, Negative Examples: hello jailbreakers i watch on video on ios 10.2 jailbreak with www.pangu10.mobi.   this realy works on ios unthethred jailbreak, HD Streams: |Flash EN[ Watch here ](http://www.streamtoday24.online/p/blog-page_73.html)| Ad Overlays: 1 (  0 pop-ups ) | YES NSFW ads | MOBILE : Yes\\n, Output: 0'},\n",
       " {'text': 'You are a moderation assistant. Decide if the following Reddit comment violates the given rule. Use the subreddit context and provided examples to guide your judgment. Answer strictly with 1 (if it violates) or 0 (if it does not).,Input: Body:  bitches  for free  at this point  show all  http://ur.my/212hg,Subreddit: Showerthoughts,Positive Examples: code free tyrande --->>> [Imgur](http://i.imgur.com/KlvssCl.png)\\n\\nfor you and your friend 2 codes for 4 dollars https://www.paypal.com/cgi-bin/webscr?cmd=_s-xclick&hosted_button_id=UN4E27AG7BWKS\\n\\n2$... buy one directly from here: https://www.paypal.com/cgi-bin/webscr?cmd=_s-xclick&hosted_button_id=VP3S5HQRE7T7E\\n, My trade link\\nhttps://steamcommunity.com/tradeoffer/new/?partner=120138057&token=oswPVc-d, Negative Examples: **HD** [ mio Stadium 102 HD](http://www.genti.stream/hd3.php) | Mobile Compatible\\n, Infographics is an incredible method for showing your businesses focal points. My newly created infographic is for Workers Compensation Lawyer Philadelphia, who are using it to advertise their business highlights in a clear and concise design.visit http://www.workerscompensationlawyer-philadelphia.com/ for more\\n, Output: 1'},\n",
       " {'text': \"You are a moderation assistant. Decide if the following Reddit comment violates the given rule. Use the subreddit context and provided examples to guide your judgment. Answer strictly with 1 (if it violates) or 0 (if it does not).,Input: Body: Does she have to watch it live? Anyways, pm me if you need info on how to watch it the pirates way (nah, no downloads or anything) I'm not sure I'm allowed to post those things here. You'll at least need a laptop and internet connection and she can watch it no problem.,Subreddit: gameofthrones,Positive Examples: As far as I'm concerned since neither of them had permits they should have been both hit with a felony weapons possession charge. These people are idiots (smoking dope in a park at 2:30 are you fucking kidding me with stolen illegally possessed weapons?) and they deserve to be punished. As far as whoever stole it? That's what fingerprints are for. \\n\\nStop being so obtuse. \\n\\nBaylor, Stanford, and now this. Inexcusable. \\n\\nDoing nothing isn't justice either., First, call EVERY divorce lawyer you can get your hands on. The best ones.\\nMy mother told me that during her divorce, she learned that lawyers can't take a case if they have already heard from or turned down the other party. That's what my mom said. But I don't really know if that's true. Still, it doesn't hurt. I think you'd have a fairly good case., Negative Examples: That's Islamophobia.  Soon to be illegal.  Watch your mouth, citizen., So she's down to handwriting? I guess one could always burn a letter, much better than bleaching an e-mail., Output: 0\"},\n",
       " {'text': \"You are a moderation assistant. Decide if the following Reddit comment violates the given rule. Use the subreddit context and provided examples to guide your judgment. Answer strictly with 1 (if it violates) or 0 (if it does not).,Input: Body: I review movies so check me out guys! I take requests https://m.youtube.com/watch?v=WtAI4uIKYxQ,Subreddit: movies,Positive Examples: I always buy from #fletchs key bot with bitcoin...super simple and quick but his price changes a lot.\\nhttp://steamcommunity.com/id/BTCkeybot/, [2 tickets to Drake & Future - $350 - Free shipping\\n\\nAug. 27 in Tampa]\\n(http://www.ebay.com/itm/Drake-Future-Summer-Sixteen-Tour-8-27-2016-Tampa-FL-2-Tickets-/291794445858?hash=item43f04de622:g:1A8AAOSwepJXYwD6), Negative Examples: We're streaming Pokemon Veitnamese Crystal RIGHT NOW, come watch https://www.twitch.tv/adandyguyinspace55., must be watch movie https://sites.google.com/site/thereturn2016hdfullmovie/watch-car-dogs-2014-hd-quality-streaming, Output: 0\"}]"
      ]
     },
     "execution_count": 4,
     "metadata": {},
     "output_type": "execute_result"
    }
   ],
   "source": [
    "records = []\n",
    "\n",
    "for _,row in df.iterrows():\n",
    "    body = row[\"body\"]\n",
    "    rule = row[\"rule\"]\n",
    "    sub = row[\"subreddit\"]\n",
    "    ex1 = row[\"positive_example_1\"]\n",
    "    ex2 = row[\"positive_example_2\"]\n",
    "    ex3 = row[\"negative_example_1\"]\n",
    "    ex4 = row[\"negative_example_2\"]\n",
    "    target  = row[\"rule_violation\"]\n",
    "    instruction = \"You are a moderation assistant. Decide if the following Reddit comment violates the given rule. Use the subreddit context and provided examples to guide your judgment. Answer strictly with 1 (if it violates) or 0 (if it does not).\"\n",
    "    prompt = f\"{instruction},Input: Body: {body},Subreddit: {sub},Positive Examples: {ex1}, {ex2}, Negative Examples: {ex3}, {ex4}, Output: {target}\"\n",
    "    records.append({\"text\":prompt})\n",
    "random.shuffle(records)\n",
    "records[:5]"
   ]
  },
  {
   "cell_type": "code",
   "execution_count": 5,
   "id": "1c1807be",
   "metadata": {},
   "outputs": [
    {
     "name": "stdout",
     "output_type": "stream",
     "text": [
      "Train split: 1623\n",
      "Validation split: 406\n"
     ]
    }
   ],
   "source": [
    "train_split = records[:int(len(records)*0.8)]\n",
    "val_split = records[int(len(records)*0.8):]\n",
    "print(f\"Train split: {len(train_split)}\")\n",
    "print(f\"Validation split: {len(val_split)}\")"
   ]
  },
  {
   "cell_type": "code",
   "execution_count": 6,
   "id": "cb0cd3c4",
   "metadata": {},
   "outputs": [],
   "source": [
    "with open(os.path.join(\"Preprocessed_Data\",\"train.jsonl\"),\"w\") as train_file:\n",
    "    for record in train_split:\n",
    "        train_file.write(json.dumps(record)+\"\\n\")\n",
    "\n",
    "with open(os.path.join(\"Preprocessed_Data\",\"valid.jsonl\"),\"w\") as valid_file:\n",
    "    for record in val_split:\n",
    "        valid_file.write(json.dumps(record)+\"\\n\")\n"
   ]
  }
 ],
 "metadata": {
  "kernelspec": {
   "display_name": "base",
   "language": "python",
   "name": "python3"
  },
  "language_info": {
   "codemirror_mode": {
    "name": "ipython",
    "version": 3
   },
   "file_extension": ".py",
   "mimetype": "text/x-python",
   "name": "python",
   "nbconvert_exporter": "python",
   "pygments_lexer": "ipython3",
   "version": "3.11.7"
  }
 },
 "nbformat": 4,
 "nbformat_minor": 5
}
