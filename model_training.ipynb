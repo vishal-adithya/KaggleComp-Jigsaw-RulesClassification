{
 "cells": [
  {
   "cell_type": "markdown",
   "id": "566b4c77",
   "metadata": {},
   "source": [
    "# Kaggle Comp : Jigsaw Rules Classification (Training notebook)"
   ]
  },
  {
   "cell_type": "markdown",
   "id": "a7f9dae9",
   "metadata": {},
   "source": [
    "### Test training"
   ]
  },
  {
   "cell_type": "code",
   "execution_count": 9,
   "id": "5a0d0344",
   "metadata": {},
   "outputs": [
    {
     "name": "stdout",
     "output_type": "stream",
     "text": [
      "Loading pretrained model\n",
      "Fetching 7 files: 100%|███████████████████████| 7/7 [00:00<00:00, 112923.57it/s]\n",
      "Loading datasets\n",
      "Training\n",
      "Trainable parameters: 0.021% (1.704M/8019.808M)\n",
      "Starting training..., iters: 10\n",
      "Iter 1: Val loss 3.354, Val took 176.622s\n",
      "libc++abi: terminating due to uncaught exception of type std::runtime_error: [METAL] Command buffer execution failed: Insufficient Memory (00000008:kIOGPUCommandBufferCallbackErrorOutOfMemory)\n"
     ]
    }
   ],
   "source": [
    "!python3 -m mlx_lm lora \\\n",
    "    --model mlx-community/Ministral-8b-Instruct-2410-4bit \\\n",
    "    --data Preprocessed_Data \\\n",
    "    --fine-tune-type lora \\\n",
    "    --batch-size 4 \\\n",
    "    --num-layers 16 \\\n",
    "    --iters 10 \\\n",
    "    --adapter-path Adapters/ \\\n",
    "    --train"
   ]
  },
  {
   "cell_type": "code",
   "execution_count": null,
   "id": "3a751e93",
   "metadata": {},
   "outputs": [],
   "source": []
  }
 ],
 "metadata": {
  "kernelspec": {
   "display_name": "base",
   "language": "python",
   "name": "python3"
  },
  "language_info": {
   "codemirror_mode": {
    "name": "ipython",
    "version": 3
   },
   "file_extension": ".py",
   "mimetype": "text/x-python",
   "name": "python",
   "nbconvert_exporter": "python",
   "pygments_lexer": "ipython3",
   "version": "3.11.7"
  }
 },
 "nbformat": 4,
 "nbformat_minor": 5
}
